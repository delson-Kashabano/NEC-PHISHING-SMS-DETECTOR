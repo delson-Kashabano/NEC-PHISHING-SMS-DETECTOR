{
 "cells": [
  {
   "cell_type": "code",
   "execution_count": null,
   "metadata": {
    "id": "aavWx9ioqXAn"
   },
   "outputs": [],
   "source": [
    "\n",
    "# NEC Phishing SMS Detector (AI-Powered)\n",
    "\n",
    "# This AI-powered project helps detect fake or phishing SMS messages that may target voters during the 2025 general elections in Tanzania.\n",
    "\n",
    "#  It is powered by a pre-trained spam classifier (BERT-tiny)\n",
    "#  It runs entirely in Google Colab (no setup needed)\n",
    "#  It uses AI to detect suspicious messages based on content and structure\n",
    "#  It uses some custom keywords for Swahili political context (e.g., NEC, kura, zawadi)\n",
    "\n",
    "#--------------------------------------------------------------------------------------------------------------------------------------------\n",
    "#  How to Use this SMS Spam Detector\n",
    "#--------------------------------------------------------------------------------------------------------------------------------------------\n",
    "\n",
    "# 1. Run all the code cells above to load the model and functions.\n",
    "# 2. In the cell below, type or paste any SMS message.\n",
    "# 3. Press Enter and see the AI prediction.\n",
    "# 4. For another message just click on the play button, in the Prompt, type any message and see the AI predict for you.\n",
    "\n",
    "\n"
   ]
  },
  {
   "cell_type": "markdown",
   "metadata": {
    "id": "18V7mupDqoI-"
   },
   "source": [
    "\n"
   ]
  },
  {
   "cell_type": "code",
   "execution_count": null,
   "metadata": {
    "id": "1Zr5wmb34xTg"
   },
   "outputs": [],
   "source": [
    "!pip install -q pandas scikit-learn #This installs required libraries"
   ]
  },
  {
   "cell_type": "code",
   "execution_count": null,
   "metadata": {
    "id": "1DzQ5YsA5EaZ"
   },
   "outputs": [],
   "source": [
    "#importing required libraries\n",
    "import pandas as pd # This handles the dataset (rows of messages)\n",
    "import numpy as np\n",
    "import matplotlib.pyplot as plt\n",
    "import seaborn as sns\n",
    "\n",
    "#machine learning\n",
    "from sklearn.model_selection import train_test_split # \tSplits data into training and testing\n",
    "from sklearn.feature_extraction.text import TfidfVectorizer  # Turns text into numbers that ML can understand\n",
    "from sklearn.naive_bayes import MultinomialNB # Naive Bayes model. It is great for text classification\n",
    "from sklearn.metrics import classification_report,accuracy_score # To check model performance\n"
   ]
  },
  {
   "cell_type": "code",
   "execution_count": null,
   "metadata": {
    "colab": {
     "base_uri": "https://localhost:8080/"
    },
    "id": "VjwDZ1FyZv_n",
    "outputId": "4f165e3c-f037-45d1-c51e-6d1bcc300515"
   },
   "outputs": [],
   "source": [
    "!pip install transformers torch -q"
   ]
  },
  {
   "cell_type": "code",
   "execution_count": null,
   "metadata": {
    "id": "iHOqPXhHcXeF"
   },
   "outputs": [],
   "source": [
    "# Loads the necessary AI tools from Hugging Face Transformers\n",
    "from transformers import pipeline\n",
    "\n",
    "# We'll also use this to show results\n",
    "import textwrap"
   ]
  },
  {
   "cell_type": "code",
   "execution_count": null,
   "metadata": {
    "colab": {
     "base_uri": "https://localhost:8080/",
     "height": 318,
     "referenced_widgets": [
      "423dd9de33974444aa4228cb997224e8",
      "fbd6af94f9db42b69bb0762a2edcd48d",
      "679aedeb15a849ffbce78bd8f940b2d1",
      "942f514f07414f6f8c8d5a331ba069bd",
      "82ae983805a84d279c2af865c7a57894",
      "5d836db8a4a84a128f1b882dc731285a",
      "157e6ea4a0f648deb712f516e32b6087",
      "a09c55b12ac5464bbb8fc1ede1665047",
      "52283eee195c4e059fcebd2289078556",
      "05e078e596a047689b67ee78ea956944",
      "094f492f915f4bd3ba670026185fb7ec",
      "0f82304b2bf347349b38a86ac10fe700",
      "c9c55fe853f84e0cafbe9ca20713efd1",
      "ba3336ff685a46c88b1d79d8a4ededff",
      "ce7fd25d614244e0b6f35c06a50e51f4",
      "4db86675561d4989b286242366361ac3",
      "91520a011a1343248f74228e43bf030a",
      "30d88c91f67f45a0888d86ede028d356",
      "fcc863f7c5f5463888b18dc57c087c51",
      "014eee1f6b224ab7b85035a8c00d01de",
      "b75e05d2e2f94f9f8fb1b41dc6b593e1",
      "6cb0f3690f664e9392c69a16091fde7d",
      "98d32559bc5d4c17bbac20011537d952",
      "6341e646fe984add972a5fcb4b4d8557",
      "87ebfe96d8624b2db34042de2011e6b7",
      "5ccade600f2743e593dfa82db70357c2",
      "6d7eb7c565ae4e55bfe60b5239b608bf",
      "d5a303906c884823b24041ede8a02889",
      "7fa1947833f14447bcd34ec11fed251d",
      "fce078b895bc45389ae7a54dd021df11",
      "944facca1bec47469b50e0e1c4c67c16",
      "ea52f772301542e4803acde5fcf7b4ec",
      "296d4dd9388148f1af6449d63af6c3d7",
      "58313e65143b43109c8857567805439a",
      "05c55b3437114911832f597d6309c680",
      "db6e4ae1178b41878e33405078a822a3",
      "56b7337604dc419b9e541b61df8ebfe4",
      "8f9579fef4c540169df337cc2aa17860",
      "11f629c35f7049fcbf0bd0133378c943",
      "a5cba352181f43e48e82313dc249bbaf",
      "53af47925cd843b3894af43dddde1945",
      "4ec282c17ac84c1f88b2ade8bf890ac3",
      "e7f3d2db2eae4e6d9af461ce0585b2b4",
      "a638441b58894aeb9c6d49b52511d806",
      "9683796bc5d341e4921d7d2a83bb1944",
      "477406ba64f64dfbbb2111f9221e2eac",
      "7b340cef73c14a2fa566b1eb07a3f369",
      "8d86275838cb4fa198c367638558f3f3",
      "ffbe454394464235893a9fd90b7ddad0",
      "236b83912353441eba843ab158930ab2",
      "e57ebcc15f9e43c9b34ff45a57dd4123",
      "9c22af06b74d4c2192bc7dc6928d3f3a",
      "a5acaf446fda4023a8d4a5e66a54498d",
      "161a6a3e513849019714bbeebd90049a",
      "9679ef2009534a8c824aece367e1dda1"
     ]
    },
    "id": "ndGbpSFXd_6r",
    "outputId": "7c6cf714-213a-4ad5-c9e7-79ee1ebfcb54"
   },
   "outputs": [],
   "source": [
    "from transformers import pipeline\n",
    "\n",
    "# Loads spam specific classifier\n",
    "classifier = pipeline(\"text-classification\", model=\"mrm8488/bert-tiny-finetuned-sms-spam-detection\")\n"
   ]
  },
  {
   "cell_type": "code",
   "execution_count": null,
   "metadata": {
    "id": "87zEkypuDlNU"
   },
   "outputs": [],
   "source": [
    "\n",
    "import textwrap\n",
    "\n",
    "def enhanced_check_sms(text):\n",
    "    spam_keywords = [\n",
    "\n",
    "    # Scam and phishing verbs\n",
    "    'won', 'win', 'claim', 'click', 'tap', 'press', 'confirm', 'verify', 'validate', 'register',\n",
    "    'free', 'gift', 'bonus', 'offer', 'reward', 'promo', 'promotion',\n",
    "\n",
    "    # Financial bait\n",
    "    'millions', 'kiasi', 'shinda', 'pesa', 'zawadi', 'bure', 'kwa gharama yoyote', 'malipo', 'tuma','itume' 'lipa',\n",
    "\n",
    "    # Urgency / commands\n",
    "    'now', 'haraka', 'sasa', 'leo', 'kabla', 'deadline', 'muda', 'fanya', 'pigia', 'jaza', 'fungua',\n",
    "\n",
    "    # Manipulative messages\n",
    "    'congratulations', 'hongera', 'umeshinda', 'umeteuliwa', 'umebahatika', 'umefuzu',\n",
    "    'reform', 'no reform', 'hakuna mabadiliko', 'mapinduzi', 'suluhisho', 'tumaini',\n",
    "\n",
    "    # Election interference\n",
    "    'usipige', 'usimpigie', 'usichague', 'kataa', 'chagua',  'pigia kura', 'msaada wa kura',\n",
    "\n",
    "    # Swahili political manipulation\n",
    "    'viongozi', 'mgombea', 'rais', 'wabunge', 'diwani', 'siasa', 'uhakiki', 'matokeo', 'kuhesabu', 'kujiandikisha',\n",
    "\n",
    "    # Political party names (used maliciously or deceptively)\n",
    "    'ccm', 'chadema', 'cuf', 'nccr', 'udp', 'tlp', 'demokrasia makini', 'nld', 'sau',\n",
    "    'adc', 'act', 'wazalendo', 'dp', 'ada', 'tadea', 'ppt', 'updp', 'chausta', 'jahazi', 'cck',\n",
    "    'nra', 'pep', 'umd', 'adu', 'chauma', 'cdm',    'Chama Cha Mapinduzi (CCM)',\n",
    "    'Chama cha Demokrasia na Maendeleo (CHADEMA)','Civic United Front (CUF)',\n",
    "    'NCCR–Mageuzi (NCCR–Mageuzi)',\n",
    "    'United Democratic Party (UDP)',\n",
    "    'Tanzania Labour Party (TLP)',\n",
    "    'Demokrasia Makini (Demokrasia Makini)',\n",
    "    'National League for Democracy (NLD)',\n",
    "    'Sauti ya Umma (SAU)',\n",
    "    'Alliance for Democratic Change (ADC)',\n",
    "    'Alliance for Change and Transparency – Wazalendo (ACT–Wazalendo)',\n",
    "    'Democratic Party (DP)',\n",
    "    'African Democratic Alliance Party (ADA–TADEA)',\n",
    "    'Progressive Party of Tanzania–Maendeleo (PPT–Maendeleo)',\n",
    "    'United Peoples Democratic Party (UPDP)',\n",
    "    'Chama cha Haki na Usitawi (CHAUSTA)',\n",
    "    'Jahazi Asilia (JA)',\n",
    "    'Chama cha Kijamii (CCK)',\n",
    "    'National Reconstruction Alliance (NRA)',\n",
    "    'Peoples’ Empowerment Party (PEP)',\n",
    "    'Union for Multiparty Democracy (UMD)',\n",
    "    'African Democratic Union (ADU)',\n",
    "    'Chama cha Ukombozi wa Umma (CHAUMA)',\n",
    "    'Chama cha Demokrasia Makini (CDM)',\n",
    "\n",
    "    # Suspicious messaging triggers\n",
    "    'nec', 'nec2025', 'tanzania elections', 'vote2025', 'sms vote', 'ballot', 'matokeo', 'wasiliana', 'msaada',\n",
    "\n",
    "    # Phone\n",
    "    'pigia', 'piga simu', 'tuma ujumbe', 'bonyeza hapa', 'andika namba', 'itume','andikisha namba',\n",
    "\n",
    "    # Emotional triggers\n",
    "    'msaada', 'tumaini', 'habari njema', 'ujumbe muhimu', 'salama', 'tahadhari'\n",
    "]\n",
    "\n",
    "\n",
    "    spam_links = [\n",
    "    'https', 'http', '.tk', '.ml', '.ga', '.cf', '.gq',  # free domains often used in scams\n",
    "    '.xyz', '.click', '.info', '.top',                   # cheap TLDs often used in spam\n",
    "    'nec-', 'nec.', 'nec2025',                           # fake references to NEC\n",
    "    'vote-', 'vote.', 'vote2025',                        # fake voting prompts\n",
    "    'verify-', 'verify.', 'verification',                # misleading verification prompts\n",
    "    'ballot-', 'ballot.', 'election-', 'election.',      # fake ballot links\n",
    "    'tz-election', 'tzvote', 'tz-verify',                # localized fake URLs\n",
    "    'electiontz', 'piga-kura', 'tanzania-vote',          # Swahili/local social engineering\n",
    "    'register-', 'update-', 'id-check',                  # fake voter update tricks\n",
    "    'result-', 'matokeo-', 'sms-vote', 'sms-election',   # fake result or voting services\n",
    "    'mpigie-', 'msajili-', 'tumie-',                     # commands or phishing triggers\n",
    "]\n",
    "\n",
    "    result = classifier(text)[0]\n",
    "    label = result['label'].lower()\n",
    "    score = round(result['score'] * 100, 2)\n",
    "\n",
    "    print(\"\\n📩 SMS Message:\")\n",
    "    print(textwrap.fill(text, width=60))\n",
    "\n",
    "    if label == \"spam\" or any(w in text.lower() for w in spam_keywords + spam_links):\n",
    "        print(\"🔍 Prediction: 🚨 It is a SPAM message 🚨\")\n",
    "    elif score < 70:\n",
    "        print(\"🔍 Prediction: ⚠️ Suspicious – Low Confidence ⚠️\")\n",
    "    else:\n",
    "        print(\"🔍 Prediction: ✅ Safe Message \")\n",
    "\n",
    "    print(f\"📊 Model Confidence: {score}%\")\n"
   ]
  },
  {
   "cell_type": "code",
   "execution_count": null,
   "metadata": {
    "colab": {
     "base_uri": "https://localhost:8080/"
    },
    "id": "jYy3xLGTNkhg",
    "outputId": "3c3ba47c-44f1-4b9e-90c0-930932e2598b"
   },
   "outputs": [],
   "source": [
    "# -------------------------------------\n",
    "#  Interactive SMS Check (User Input)\n",
    "# -------------------------------------\n",
    "print(\"Welcome to the NEC Phishing SMS Detector!\")\n",
    "print(\"Type an SMS message below to check if it is spam or safe.\\n\")\n",
    "\n",
    "sms = input(\"Enter SMS message: \")\n",
    "enhanced_check_sms(sms)\n"
   ]
  },
  {
   "cell_type": "code",
   "execution_count": null,
   "metadata": {
    "id": "eM-tcxLzOAvb"
   },
   "outputs": [],
   "source": []
  }
 ],
 "metadata": {
  "colab": {
   "provenance": []
  },
  "kernelspec": {
   "display_name": "Python 3",
   "name": "python3"
  },
  "language_info": {
   "name": "python"
  }
 },
 "nbformat": 4,
 "nbformat_minor": 0
}
